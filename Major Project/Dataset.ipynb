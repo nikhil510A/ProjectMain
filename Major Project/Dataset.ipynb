{
 "cells": [
  {
   "cell_type": "code",
   "execution_count": 2,
   "id": "5d93cc57-231a-4e60-9776-9ec05b917154",
   "metadata": {},
   "outputs": [
    {
     "name": "stdout",
     "output_type": "stream",
     "text": [
      "   user_id  budget_min  budget_max location_preference branch_preference  \\\n",
      "0        1       10000       20000               Dadar              INFT   \n",
      "1        2       20000       25000              Wadala              INFT   \n",
      "2        3       15000       25000              Wadala              EXTC   \n",
      "3        4       20000       25000              Wadala              INFT   \n",
      "4        5       20000       25000             Chembur              EXTC   \n",
      "\n",
      "   cleanliness_level  noise_tolerance  smoking_tolerance  pets_tolerance  \\\n",
      "0                  2                3               True            True   \n",
      "1                  3                3               True           False   \n",
      "2                  1                3              False           False   \n",
      "3                  2                4              False           False   \n",
      "4                  1                5               True           False   \n",
      "\n",
      "   party_tolerance  \n",
      "0             True  \n",
      "1             True  \n",
      "2            False  \n",
      "3             True  \n",
      "4             True  \n"
     ]
    }
   ],
   "source": [
    "import pandas as pd\n",
    "import numpy as np\n",
    "\n",
    "np.random.seed(42)\n",
    "\n",
    "num_users = 10000\n",
    "\n",
    "locations = ['Wadala', 'Dadar', 'Chembur', 'Chunabhatti', 'Matunga']\n",
    "branches = ['CMPN', 'INFT', 'BIOMED', 'EXTC', 'EXCS']\n",
    "\n",
    "budget_values = [5000, 10000, 15000, 20000, 25000]\n",
    "\n",
    "user_data = {\n",
    "    'user_id': np.arange(1, num_users + 1),\n",
    "    'budget_min': np.random.choice(budget_values, size=num_users),  \n",
    "    'budget_max': np.random.choice(budget_values, size=num_users),  \n",
    "    'location_preference': np.random.choice(locations, size=num_users),\n",
    "    'branch_preference': np.random.choice(branches, size=num_users),\n",
    "    'cleanliness_level': np.random.randint(1, 6, size=num_users),\n",
    "    'noise_tolerance': np.random.randint(1, 6, size=num_users),\n",
    "    'smoking_tolerance': np.random.choice([True, False], size=num_users),\n",
    "    'pets_tolerance': np.random.choice([True, False], size=num_users),\n",
    "    'party_tolerance': np.random.choice([True, False], size=num_users)\n",
    "}\n",
    "\n",
    "# budgetmax>budgetmin\n",
    "user_data['budget_min'], user_data['budget_max'] = np.minimum(user_data['budget_min'], user_data['budget_max']), np.maximum(user_data['budget_min'], user_data['budget_max'])\n",
    "\n",
    "user_df = pd.DataFrame(user_data)\n",
    "user_df.to_csv('user_profiles.csv', index=False)\n",
    "\n",
    "print(user_df.head())"
   ]
  },
  {
   "cell_type": "code",
   "execution_count": 5,
   "id": "0b9abcf7-3247-4286-b6b9-548234a1eac8",
   "metadata": {},
   "outputs": [],
   "source": [
    "##Explanation of the Code:\n",
    "##Imports: The code imports the necessary libraries (pandas for data manipulation and numpy for generating random data).\n",
    "##Seed: A random seed is set for reproducibility.\n",
    "##User Count: Defines the number of users (5000).\n",
    "##Attributes: Specifies possible values for location_preference and branch_preference.\n",
    "##Data Generation: Generates random values for each user profile attribute.\n",
    "##DataFrame: Creates a pandas DataFrame to hold the generated user profiles.\n",
    "##CSV Output: Optionally saves the DataFrame as a CSV file called user_profiles.csv.\n",
    "##Preview: Displays the first few rows of the generated dataset."
   ]
  },
  {
   "cell_type": "code",
   "execution_count": null,
   "id": "2f5384da-96b2-4cc4-a4bb-a5ea7318fddb",
   "metadata": {},
   "outputs": [],
   "source": []
  }
 ],
 "metadata": {
  "kernelspec": {
   "display_name": "Python 3 (ipykernel)",
   "language": "python",
   "name": "python3"
  },
  "language_info": {
   "codemirror_mode": {
    "name": "ipython",
    "version": 3
   },
   "file_extension": ".py",
   "mimetype": "text/x-python",
   "name": "python",
   "nbconvert_exporter": "python",
   "pygments_lexer": "ipython3",
   "version": "3.12.4"
  }
 },
 "nbformat": 4,
 "nbformat_minor": 5
}
