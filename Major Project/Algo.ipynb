{
 "cells": [
  {
   "cell_type": "code",
   "execution_count": 1,
   "id": "8d29a714-9416-4d75-bc66-b8b047f78c65",
   "metadata": {},
   "outputs": [
    {
     "name": "stdout",
     "output_type": "stream",
     "text": [
      "Recommended matches for user 1: [4086 4420 7897 1456 6784 7164 6174 6152 1578 1058]\n"
     ]
    }
   ],
   "source": [
    "import pandas as pd\n",
    "from sklearn.metrics.pairwise import cosine_similarity\n",
    "from sklearn.preprocessing import StandardScaler\n",
    "import numpy as np\n",
    "\n",
    "user_df = pd.read_csv('user_profiles.csv')\n",
    "\n",
    "#Preprocess\n",
    "def preprocess_data(df):\n",
    "    df['smoking_tolerance'] = df['smoking_tolerance'].astype(int)\n",
    "    df['pets_tolerance'] = df['pets_tolerance'].astype(int)\n",
    "    df['party_tolerance'] = df['party_tolerance'].astype(int)\n",
    "\n",
    "    features = df[['budget_min', 'budget_max', 'cleanliness_level', \n",
    "                   'noise_tolerance', 'smoking_tolerance', \n",
    "                   'pets_tolerance', 'party_tolerance']]\n",
    "    \n",
    "    scaler = StandardScaler()\n",
    "    scaled_features = scaler.fit_transform(features)\n",
    "\n",
    "    return scaled_features\n",
    "\n",
    "user_features = preprocess_data(user_df)\n",
    "\n",
    "#Similarity\n",
    "def calculate_similarity(features):\n",
    "    return cosine_similarity(features)\n",
    "\n",
    "similarity_matrix = calculate_similarity(user_features)\n",
    "\n",
    "#Recommendation Function\n",
    "def recommend(user_id, n=5):\n",
    "    user_index = user_id - 1\n",
    "    similarity_scores = similarity_matrix[user_index]\n",
    "    similar_indices = np.argsort(similarity_scores)[-n-1:-1][::-1]\n",
    "    recommended_users = user_df['user_id'].iloc[similar_indices].values\n",
    "    return recommended_users\n",
    "\n",
    "recommended_matches = recommend(user_id=10, n=10)\n",
    "print(f'Recommended matches for user 1: {recommended_matches}')\n"
   ]
  },
  {
   "cell_type": "code",
   "execution_count": 1,
   "id": "7df22358-3171-4763-81e0-01cf33d4af0d",
   "metadata": {},
   "outputs": [
    {
     "ename": "KeyError",
     "evalue": "'gender'",
     "output_type": "error",
     "traceback": [
      "\u001b[1;31m---------------------------------------------------------------------------\u001b[0m",
      "\u001b[1;31mKeyError\u001b[0m                                  Traceback (most recent call last)",
      "File \u001b[1;32m~\\AppData\\Local\\Programs\\Python\\Python312\\Lib\\site-packages\\pandas\\core\\indexes\\base.py:3805\u001b[0m, in \u001b[0;36mIndex.get_loc\u001b[1;34m(self, key)\u001b[0m\n\u001b[0;32m   3804\u001b[0m \u001b[38;5;28;01mtry\u001b[39;00m:\n\u001b[1;32m-> 3805\u001b[0m     \u001b[38;5;28;01mreturn\u001b[39;00m \u001b[38;5;28;43mself\u001b[39;49m\u001b[38;5;241;43m.\u001b[39;49m\u001b[43m_engine\u001b[49m\u001b[38;5;241;43m.\u001b[39;49m\u001b[43mget_loc\u001b[49m\u001b[43m(\u001b[49m\u001b[43mcasted_key\u001b[49m\u001b[43m)\u001b[49m\n\u001b[0;32m   3806\u001b[0m \u001b[38;5;28;01mexcept\u001b[39;00m \u001b[38;5;167;01mKeyError\u001b[39;00m \u001b[38;5;28;01mas\u001b[39;00m err:\n",
      "File \u001b[1;32mindex.pyx:167\u001b[0m, in \u001b[0;36mpandas._libs.index.IndexEngine.get_loc\u001b[1;34m()\u001b[0m\n",
      "File \u001b[1;32mindex.pyx:196\u001b[0m, in \u001b[0;36mpandas._libs.index.IndexEngine.get_loc\u001b[1;34m()\u001b[0m\n",
      "File \u001b[1;32mpandas\\\\_libs\\\\hashtable_class_helper.pxi:7081\u001b[0m, in \u001b[0;36mpandas._libs.hashtable.PyObjectHashTable.get_item\u001b[1;34m()\u001b[0m\n",
      "File \u001b[1;32mpandas\\\\_libs\\\\hashtable_class_helper.pxi:7089\u001b[0m, in \u001b[0;36mpandas._libs.hashtable.PyObjectHashTable.get_item\u001b[1;34m()\u001b[0m\n",
      "\u001b[1;31mKeyError\u001b[0m: 'gender'",
      "\nThe above exception was the direct cause of the following exception:\n",
      "\u001b[1;31mKeyError\u001b[0m                                  Traceback (most recent call last)",
      "Cell \u001b[1;32mIn[1], line 66\u001b[0m\n\u001b[0;32m     63\u001b[0m     \u001b[38;5;28;01mreturn\u001b[39;00m recommended_users\n\u001b[0;32m     65\u001b[0m \u001b[38;5;66;03m# Example usage\u001b[39;00m\n\u001b[1;32m---> 66\u001b[0m recommended_matches \u001b[38;5;241m=\u001b[39m \u001b[43mrecommend\u001b[49m\u001b[43m(\u001b[49m\u001b[43muser_id\u001b[49m\u001b[38;5;241;43m=\u001b[39;49m\u001b[38;5;241;43m1\u001b[39;49m\u001b[43m,\u001b[49m\u001b[43m \u001b[49m\u001b[43mn\u001b[49m\u001b[38;5;241;43m=\u001b[39;49m\u001b[38;5;241;43m5\u001b[39;49m\u001b[43m)\u001b[49m\n\u001b[0;32m     67\u001b[0m \u001b[38;5;28mprint\u001b[39m(\u001b[38;5;124mf\u001b[39m\u001b[38;5;124m'\u001b[39m\u001b[38;5;124mRecommended matches for user 1: \u001b[39m\u001b[38;5;132;01m{\u001b[39;00mrecommended_matches\u001b[38;5;132;01m}\u001b[39;00m\u001b[38;5;124m'\u001b[39m)\n",
      "Cell \u001b[1;32mIn[1], line 41\u001b[0m, in \u001b[0;36mrecommend\u001b[1;34m(user_id, n)\u001b[0m\n\u001b[0;32m     38\u001b[0m user_row \u001b[38;5;241m=\u001b[39m user_df\u001b[38;5;241m.\u001b[39miloc[user_index]\n\u001b[0;32m     40\u001b[0m \u001b[38;5;66;03m# Extract gender and preference\u001b[39;00m\n\u001b[1;32m---> 41\u001b[0m user_gender \u001b[38;5;241m=\u001b[39m \u001b[43muser_row\u001b[49m\u001b[43m[\u001b[49m\u001b[38;5;124;43m'\u001b[39;49m\u001b[38;5;124;43mgender\u001b[39;49m\u001b[38;5;124;43m'\u001b[39;49m\u001b[43m]\u001b[49m\n\u001b[0;32m     42\u001b[0m gender_pref \u001b[38;5;241m=\u001b[39m user_row[\u001b[38;5;124m'\u001b[39m\u001b[38;5;124mgender_preference\u001b[39m\u001b[38;5;124m'\u001b[39m]\n\u001b[0;32m     44\u001b[0m \u001b[38;5;66;03m# Filter candidates based on gender preference logic\u001b[39;00m\n",
      "File \u001b[1;32m~\\AppData\\Local\\Programs\\Python\\Python312\\Lib\\site-packages\\pandas\\core\\series.py:1121\u001b[0m, in \u001b[0;36mSeries.__getitem__\u001b[1;34m(self, key)\u001b[0m\n\u001b[0;32m   1118\u001b[0m     \u001b[38;5;28;01mreturn\u001b[39;00m \u001b[38;5;28mself\u001b[39m\u001b[38;5;241m.\u001b[39m_values[key]\n\u001b[0;32m   1120\u001b[0m \u001b[38;5;28;01melif\u001b[39;00m key_is_scalar:\n\u001b[1;32m-> 1121\u001b[0m     \u001b[38;5;28;01mreturn\u001b[39;00m \u001b[38;5;28;43mself\u001b[39;49m\u001b[38;5;241;43m.\u001b[39;49m\u001b[43m_get_value\u001b[49m\u001b[43m(\u001b[49m\u001b[43mkey\u001b[49m\u001b[43m)\u001b[49m\n\u001b[0;32m   1123\u001b[0m \u001b[38;5;66;03m# Convert generator to list before going through hashable part\u001b[39;00m\n\u001b[0;32m   1124\u001b[0m \u001b[38;5;66;03m# (We will iterate through the generator there to check for slices)\u001b[39;00m\n\u001b[0;32m   1125\u001b[0m \u001b[38;5;28;01mif\u001b[39;00m is_iterator(key):\n",
      "File \u001b[1;32m~\\AppData\\Local\\Programs\\Python\\Python312\\Lib\\site-packages\\pandas\\core\\series.py:1237\u001b[0m, in \u001b[0;36mSeries._get_value\u001b[1;34m(self, label, takeable)\u001b[0m\n\u001b[0;32m   1234\u001b[0m     \u001b[38;5;28;01mreturn\u001b[39;00m \u001b[38;5;28mself\u001b[39m\u001b[38;5;241m.\u001b[39m_values[label]\n\u001b[0;32m   1236\u001b[0m \u001b[38;5;66;03m# Similar to Index.get_value, but we do not fall back to positional\u001b[39;00m\n\u001b[1;32m-> 1237\u001b[0m loc \u001b[38;5;241m=\u001b[39m \u001b[38;5;28;43mself\u001b[39;49m\u001b[38;5;241;43m.\u001b[39;49m\u001b[43mindex\u001b[49m\u001b[38;5;241;43m.\u001b[39;49m\u001b[43mget_loc\u001b[49m\u001b[43m(\u001b[49m\u001b[43mlabel\u001b[49m\u001b[43m)\u001b[49m\n\u001b[0;32m   1239\u001b[0m \u001b[38;5;28;01mif\u001b[39;00m is_integer(loc):\n\u001b[0;32m   1240\u001b[0m     \u001b[38;5;28;01mreturn\u001b[39;00m \u001b[38;5;28mself\u001b[39m\u001b[38;5;241m.\u001b[39m_values[loc]\n",
      "File \u001b[1;32m~\\AppData\\Local\\Programs\\Python\\Python312\\Lib\\site-packages\\pandas\\core\\indexes\\base.py:3812\u001b[0m, in \u001b[0;36mIndex.get_loc\u001b[1;34m(self, key)\u001b[0m\n\u001b[0;32m   3807\u001b[0m     \u001b[38;5;28;01mif\u001b[39;00m \u001b[38;5;28misinstance\u001b[39m(casted_key, \u001b[38;5;28mslice\u001b[39m) \u001b[38;5;129;01mor\u001b[39;00m (\n\u001b[0;32m   3808\u001b[0m         \u001b[38;5;28misinstance\u001b[39m(casted_key, abc\u001b[38;5;241m.\u001b[39mIterable)\n\u001b[0;32m   3809\u001b[0m         \u001b[38;5;129;01mand\u001b[39;00m \u001b[38;5;28many\u001b[39m(\u001b[38;5;28misinstance\u001b[39m(x, \u001b[38;5;28mslice\u001b[39m) \u001b[38;5;28;01mfor\u001b[39;00m x \u001b[38;5;129;01min\u001b[39;00m casted_key)\n\u001b[0;32m   3810\u001b[0m     ):\n\u001b[0;32m   3811\u001b[0m         \u001b[38;5;28;01mraise\u001b[39;00m InvalidIndexError(key)\n\u001b[1;32m-> 3812\u001b[0m     \u001b[38;5;28;01mraise\u001b[39;00m \u001b[38;5;167;01mKeyError\u001b[39;00m(key) \u001b[38;5;28;01mfrom\u001b[39;00m \u001b[38;5;21;01merr\u001b[39;00m\n\u001b[0;32m   3813\u001b[0m \u001b[38;5;28;01mexcept\u001b[39;00m \u001b[38;5;167;01mTypeError\u001b[39;00m:\n\u001b[0;32m   3814\u001b[0m     \u001b[38;5;66;03m# If we have a listlike key, _check_indexing_error will raise\u001b[39;00m\n\u001b[0;32m   3815\u001b[0m     \u001b[38;5;66;03m#  InvalidIndexError. Otherwise we fall through and re-raise\u001b[39;00m\n\u001b[0;32m   3816\u001b[0m     \u001b[38;5;66;03m#  the TypeError.\u001b[39;00m\n\u001b[0;32m   3817\u001b[0m     \u001b[38;5;28mself\u001b[39m\u001b[38;5;241m.\u001b[39m_check_indexing_error(key)\n",
      "\u001b[1;31mKeyError\u001b[0m: 'gender'"
     ]
    }
   ],
   "source": [
    "import pandas as pd\n",
    "from sklearn.metrics.pairwise import cosine_similarity\n",
    "from sklearn.preprocessing import StandardScaler\n",
    "import numpy as np\n",
    "\n",
    "# Load the user profile dataset\n",
    "user_df = pd.read_csv('user_profiles.csv')\n",
    "\n",
    "# Step 2: Feature Extraction\n",
    "def extract_features(df):\n",
    "    # Convert boolean columns to integers\n",
    "    df['smoking_tolerance'] = df['smoking_tolerance'].astype(int)\n",
    "    df['pets_tolerance'] = df['pets_tolerance'].astype(int)\n",
    "    df['party_tolerance'] = df['party_tolerance'].astype(int)\n",
    "\n",
    "    # Select features for the model\n",
    "    features = df[['budget_min', 'budget_max', 'cleanliness_level', 'noise_tolerance',\n",
    "                   'smoking_tolerance', 'pets_tolerance', 'party_tolerance']]\n",
    "\n",
    "    # Standardize features\n",
    "    scaler = StandardScaler()\n",
    "    scaled_features = scaler.fit_transform(features)\n",
    "\n",
    "    return scaled_features\n",
    "\n",
    "# Extract features\n",
    "user_features = extract_features(user_df)\n",
    "\n",
    "# Step 3: Similarity Calculation\n",
    "def calculate_similarity(user_features):\n",
    "    return cosine_similarity(user_features)\n",
    "\n",
    "similarity_matrix = calculate_similarity(user_features)\n",
    "\n",
    "\n",
    "def recommend(user_id, n=5):\n",
    "    user_index = user_id - 1\n",
    "    user_row = user_df.iloc[user_index]\n",
    "\n",
    "    \n",
    "    user_gender = user_row['gender']\n",
    "    gender_pref = user_row['gender_preference']\n",
    "\n",
    "    \n",
    "    def is_compatible(idx):\n",
    "        candidate = user_df.iloc[idx]\n",
    "        \n",
    "        return (\n",
    "            (candidate['gender_preference'] in ['any', user_gender]) and\n",
    "            (gender_pref in ['any', candidate['gender']])\n",
    "        )\n",
    "\n",
    "    compatibility_mask = np.array([is_compatible(i) for i in range(len(user_df))])\n",
    "\n",
    "    # Exclude self and keep only compatible users\n",
    "    similarity_scores = similarity_matrix[user_index]\n",
    "    similarity_scores[user_index] = -1  # exclude self\n",
    "    similarity_scores[~compatibility_mask] = -1  # exclude incompatible\n",
    "\n",
    "    # Get top-n similar users\n",
    "    similar_indices = np.argsort(similarity_scores)[-n:][::-1]\n",
    "    recommended_users = user_df['user_id'].iloc[similar_indices].values\n",
    "    return recommended_users\n",
    "\n",
    "# Example usage\n",
    "recommended_matches = recommend(user_id=1, n=5)\n",
    "print(f'Recommended matches for user 1: {recommended_matches}')\n"
   ]
  },
  {
   "cell_type": "code",
   "execution_count": null,
   "id": "714561a2-be87-4dbd-a93a-f343d95f6607",
   "metadata": {},
   "outputs": [],
   "source": []
  },
  {
   "cell_type": "code",
   "execution_count": null,
   "id": "83ff6570-c094-4fe0-9065-f3c1915bd793",
   "metadata": {},
   "outputs": [],
   "source": []
  },
  {
   "cell_type": "code",
   "execution_count": null,
   "id": "65bfe63e-633e-4591-8e5d-ab0113303c0e",
   "metadata": {},
   "outputs": [],
   "source": []
  },
  {
   "cell_type": "code",
   "execution_count": 26,
   "id": "2ca9e140-bf83-485b-b43f-660241ba248a",
   "metadata": {},
   "outputs": [],
   "source": [
    "# Update preprocess_data function to include new features if needed\n",
    "def preprocess_data(df):\n",
    "    # Existing preprocessing steps\n",
    "    \n",
    "    # Additional processing for new features (e.g., TF-IDF or word embeddings)\n",
    "    \n",
    "    return scaled_features\n",
    "\n",
    "# Update similarity calculation to include new features\n",
    "def calculate_similarity(features):\n",
    "    # Adjust cosine_similarity calculation to include new features if applicable\n",
    "    \n",
    "    return cosine_similarity(features)"
   ]
  },
  {
   "cell_type": "code",
   "execution_count": 31,
   "id": "267c4359-8f79-4e21-bc34-cc3f2b43aa0b",
   "metadata": {},
   "outputs": [
    {
     "name": "stdout",
     "output_type": "stream",
     "text": [
      "1.5.1\n"
     ]
    }
   ],
   "source": [
    "import sklearn; print(sklearn.__version__)"
   ]
  },
  {
   "cell_type": "code",
   "execution_count": null,
   "id": "7d2879e7-617d-4abd-8e24-83ce6431441e",
   "metadata": {},
   "outputs": [],
   "source": []
  }
 ],
 "metadata": {
  "kernelspec": {
   "display_name": "Python 3 (ipykernel)",
   "language": "python",
   "name": "python3"
  },
  "language_info": {
   "codemirror_mode": {
    "name": "ipython",
    "version": 3
   },
   "file_extension": ".py",
   "mimetype": "text/x-python",
   "name": "python",
   "nbconvert_exporter": "python",
   "pygments_lexer": "ipython3",
   "version": "3.12.10"
  }
 },
 "nbformat": 4,
 "nbformat_minor": 5
}
