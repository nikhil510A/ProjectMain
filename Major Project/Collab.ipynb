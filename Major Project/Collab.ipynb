{
 "cells": [
  {
   "cell_type": "code",
   "execution_count": null,
   "id": "9d4e84bd-9ae7-47f3-a58e-473c2830aa51",
   "metadata": {},
   "outputs": [],
   "source": [
    "\n"
   ]
  },
  {
   "cell_type": "code",
   "execution_count": 1,
   "id": "0b03c44a-27c9-4fb7-91a4-a06fd50304a8",
   "metadata": {},
   "outputs": [],
   "source": [
    "###SVD"
   ]
  },
  {
   "cell_type": "code",
   "execution_count": null,
   "id": "e94ddee8-4345-45ca-b0a2-42c8ee4a92a1",
   "metadata": {},
   "outputs": [],
   "source": [
    "import numpy as np\n",
    "import pandas as pd\n",
    "from sklearn.decomposition import TruncatedSVD\n",
    "from sklearn.metrics.pairwise import cosine_similarity\n",
    "\n",
    "# Sample user-item interaction matrix (user-user in roommate case)\n",
    "user_item_matrix = np.array([\n",
    "    [0, 0.7, 0.3, 0.8],\n",
    "    [0.7, 0, 0.5, 0.4],\n",
    "    [0.3, 0.5, 0, 0.6],\n",
    "    [0.8, 0.4, 0.6, 0]\n",
    "])\n",
    "\n",
    "# Decompose using SVD\n",
    "svd = TruncatedSVD(n_components=2)  # Reducing to 2 latent factors\n",
    "user_latent = svd.fit_transform(user_item_matrix)\n",
    "item_latent = svd.components_.T\n",
    "\n",
    "# Reconstruct the interaction matrix\n",
    "reconstructed_matrix = np.dot(user_latent, item_latent.T)\n",
    "\n",
    "# Show the reconstructed matrix\n",
    "print(\"Reconstructed user-user compatibility matrix:\")\n",
    "print(reconstructed_matrix)\n",
    "\n",
    "# Predict compatibility for a new pair of users\n",
    "predicted_compatibility = reconstructed_matrix[0, 2]  # Compatibility between User 1 and User 3\n",
    "print(f'Predicted compatibility between User 1 and User 3: {predicted_compatibility}')\n"
   ]
  },
  {
   "cell_type": "code",
   "execution_count": null,
   "id": "50df4472-9b7e-4aba-8667-bdc44428d894",
   "metadata": {},
   "outputs": [],
   "source": []
  },
  {
   "cell_type": "code",
   "execution_count": null,
   "id": "7c3f073e-b5de-4379-ad0f-82a1571e3211",
   "metadata": {},
   "outputs": [],
   "source": []
  },
  {
   "cell_type": "code",
   "execution_count": null,
   "id": "e9fd0470-bddb-42a4-977d-b26def8d3f02",
   "metadata": {},
   "outputs": [],
   "source": []
  },
  {
   "cell_type": "code",
   "execution_count": null,
   "id": "d3832308-6a13-4e7b-970c-c92106adb2c6",
   "metadata": {},
   "outputs": [],
   "source": []
  }
 ],
 "metadata": {
  "kernelspec": {
   "display_name": "Python 3 (ipykernel)",
   "language": "python",
   "name": "python3"
  },
  "language_info": {
   "codemirror_mode": {
    "name": "ipython",
    "version": 3
   },
   "file_extension": ".py",
   "mimetype": "text/x-python",
   "name": "python",
   "nbconvert_exporter": "python",
   "pygments_lexer": "ipython3",
   "version": "3.12.4"
  }
 },
 "nbformat": 4,
 "nbformat_minor": 5
}
