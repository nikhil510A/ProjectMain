{
 "cells": [
  {
   "cell_type": "code",
   "execution_count": 3,
   "id": "5d93cc57-231a-4e60-9776-9ec05b917154",
   "metadata": {},
   "outputs": [
    {
     "name": "stdout",
     "output_type": "stream",
     "text": [
      "   user_id gender_preference  budget_min  budget_max location_preference  \\\n",
      "0        1               Any        5000       10000             Chembur   \n",
      "1        2              Male        5000       10000               Dadar   \n",
      "2        3               Any        5000       20000               Dadar   \n",
      "3        4               Any        5000       20000             Matunga   \n",
      "4        5              Male        5000       10000               Dadar   \n",
      "\n",
      "  branch_preference  cleanliness_level  noise_tolerance  smoking_tolerance  \\\n",
      "0              INFT                  2                1               True   \n",
      "1              CMPN                  1                2               True   \n",
      "2              EXCS                  5                5               True   \n",
      "3              INFT                  2                1               True   \n",
      "4            BIOMED                  4                2              False   \n",
      "\n",
      "   pets_tolerance  party_tolerance  \n",
      "0           False             True  \n",
      "1            True             True  \n",
      "2            True            False  \n",
      "3           False            False  \n",
      "4            True             True  \n"
     ]
    }
   ],
   "source": [
    "import pandas as pd\n",
    "import numpy as np\n",
    "\n",
    "# Set the random seed for reproducibility\n",
    "np.random.seed(42)\n",
    "\n",
    "# Number of users\n",
    "num_users = 10000\n",
    "\n",
    "# Possible values\n",
    "locations = ['Wadala', 'Dadar', 'Chembur', 'Chunabhatti', 'Matunga']\n",
    "branches = ['CMPN', 'INFT', 'BIOMED', 'EXTC', 'EXCS']\n",
    "genders = ['Male', 'Female', 'Any']\n",
    "budget_values = [5000, 10000, 15000, 20000, 25000]\n",
    "\n",
    "# Generate data\n",
    "user_data = {\n",
    "    'user_id': np.arange(1, num_users + 1),\n",
    "    'gender_preference': np.random.choice(genders, size=num_users),\n",
    "    'budget_min': np.random.choice(budget_values, size=num_users),\n",
    "    'budget_max': np.random.choice(budget_values, size=num_users),\n",
    "    'location_preference': np.random.choice(locations, size=num_users),\n",
    "    'branch_preference': np.random.choice(branches, size=num_users),\n",
    "    'cleanliness_level': np.random.randint(1, 6, size=num_users),\n",
    "    'noise_tolerance': np.random.randint(1, 6, size=num_users),\n",
    "    'smoking_tolerance': np.random.choice([True, False], size=num_users),\n",
    "    'pets_tolerance': np.random.choice([True, False], size=num_users),\n",
    "    'party_tolerance': np.random.choice([True, False], size=num_users),\n",
    "    \n",
    "}\n",
    "\n",
    "# Ensure min <= max\n",
    "user_data['budget_min'], user_data['budget_max'] = (\n",
    "    np.minimum(user_data['budget_min'], user_data['budget_max']),\n",
    "    np.maximum(user_data['budget_min'], user_data['budget_max'])\n",
    ")\n",
    "\n",
    "# Create DataFrame\n",
    "user_df = pd.DataFrame(user_data)\n",
    "\n",
    "# Save to CSV\n",
    "user_df.to_csv('user_profiles.csv', index=False)\n",
    "\n",
    "# Preview\n",
    "print(user_df.head())\n",
    "\n"
   ]
  },
  {
   "cell_type": "code",
   "execution_count": 5,
   "id": "0b9abcf7-3247-4286-b6b9-548234a1eac8",
   "metadata": {},
   "outputs": [],
   "source": [
    "##Explanation of the Code:\n",
    "##Imports: The code imports the necessary libraries (pandas for data manipulation and numpy for generating random data).\n",
    "##Seed: A random seed is set for reproducibility.\n",
    "##User Count: Defines the number of users (5000).\n",
    "##Attributes: Specifies possible values for location_preference and branch_preference.\n",
    "##Data Generation: Generates random values for each user profile attribute.\n",
    "##DataFrame: Creates a pandas DataFrame to hold the generated user profiles.\n",
    "##CSV Output: Optionally saves the DataFrame as a CSV file called user_profiles.csv.\n",
    "##Preview: Displays the first few rows of the generated dataset."
   ]
  },
  {
   "cell_type": "code",
   "execution_count": null,
   "id": "2f5384da-96b2-4cc4-a4bb-a5ea7318fddb",
   "metadata": {},
   "outputs": [],
   "source": []
  }
 ],
 "metadata": {
  "kernelspec": {
   "display_name": "Python 3",
   "language": "python",
   "name": "python3"
  },
  "language_info": {
   "codemirror_mode": {
    "name": "ipython",
    "version": 3
   },
   "file_extension": ".py",
   "mimetype": "text/x-python",
   "name": "python",
   "nbconvert_exporter": "python",
   "pygments_lexer": "ipython3",
   "version": "3.12.10"
  }
 },
 "nbformat": 4,
 "nbformat_minor": 5
}
