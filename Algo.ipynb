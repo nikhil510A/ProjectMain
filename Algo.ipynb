{
 "cells": [
  {
   "cell_type": "code",
   "execution_count": 1,
   "id": "714561a2-be87-4dbd-a93a-f343d95f6607",
   "metadata": {},
   "outputs": [],
   "source": [
    "import pandas as pd\n",
    "from sklearn.metrics.pairwise import cosine_similarity\n",
    "from sklearn.preprocessing import StandardScaler, OneHotEncoder\n",
    "import numpy as np\n",
    "\n",
    "# Load dataset\n",
    "user_df = pd.read_csv('user_profiles.csv')\n",
    "\n",
    "# Preprocess\n",
    "def preprocess_data(df):\n",
    "    df['smoking_tolerance'] = df['smoking_tolerance'].astype(int)\n",
    "    df['pets_tolerance'] = df['pets_tolerance'].astype(int)\n",
    "    df['party_tolerance'] = df['party_tolerance'].astype(int)\n",
    "\n",
    "    # Select numerical features\n",
    "    numerical_features = df[['budget_min', 'budget_max', 'cleanliness_level', \n",
    "                             'noise_tolerance', 'smoking_tolerance', \n",
    "                             'pets_tolerance', 'party_tolerance']]\n",
    "    \n",
    "    # Standardize numerical features\n",
    "    scaler = StandardScaler()\n",
    "    scaled_numerical = scaler.fit_transform(numerical_features)\n",
    "\n",
    "    # One-hot encode gender_preference\n",
    "    encoder = OneHotEncoder(drop='first') \n",
    "    gender_encoded = encoder.fit_transform(df[['gender_preference']]).toarray()\n",
    "    \n",
    "    # Combine numerical + categorical features\n",
    "    combined_features = np.hstack((scaled_numerical, gender_encoded))\n",
    "\n",
    "    return combined_features\n",
    "\n",
    "# Preprocess user data\n",
    "user_features = preprocess_data(user_df)\n",
    "\n",
    "# Similarity\n",
    "def calculate_similarity(features):\n",
    "    return cosine_similarity(features)\n",
    "\n",
    "similarity_matrix = calculate_similarity(user_features)\n",
    "\n",
    "# Recommendation Function\n",
    "def recommend(user_id, n=5):\n",
    "    user_index = user_id - 1\n",
    "    similarity_scores = similarity_matrix[user_index]\n",
    "    similar_indices = np.argsort(similarity_scores)[-n-1:-1][::-1]\n",
    "    recommended_users = user_df['user_id'].iloc[similar_indices].values\n",
    "    return recommended_users\n",
    "\n",
    "\n"
   ]
  },
  {
   "cell_type": "code",
   "execution_count": 3,
   "id": "83ff6570-c094-4fe0-9065-f3c1915bd793",
   "metadata": {},
   "outputs": [],
   "source": [
    "import pickle\n",
    "\n",
    "# Save the processed user features\n",
    "with open('user_features.pkl', 'wb') as f:\n",
    "    pickle.dump(user_features, f)\n",
    "\n",
    "# Save the similarity matrix\n",
    "with open('similarity_matrix.pkl', 'wb') as f:\n",
    "    pickle.dump(similarity_matrix, f)\n"
   ]
  },
  {
   "cell_type": "code",
   "execution_count": null,
   "id": "65bfe63e-633e-4591-8e5d-ab0113303c0e",
   "metadata": {},
   "outputs": [],
   "source": []
  },
  {
   "cell_type": "code",
   "execution_count": null,
   "id": "2ca9e140-bf83-485b-b43f-660241ba248a",
   "metadata": {},
   "outputs": [],
   "source": [
    "'''# Update preprocess_data function to include new features if needed\n",
    "def preprocess_data(df):\n",
    "    # Existing preprocessing steps\n",
    "    \n",
    "    # Additional processing for new features (e.g., TF-IDF or word embeddings)\n",
    "    \n",
    "    return scaled_features\n",
    "\n",
    "# Update similarity calculation to include new features\n",
    "def calculate_similarity(features):\n",
    "    # Adjust cosine_similarity calculation to include new features if applicable\n",
    "    \n",
    "    return cosine_similarity(features)'''"
   ]
  }
 ],
 "metadata": {
  "kernelspec": {
   "display_name": "Python 3",
   "language": "python",
   "name": "python3"
  },
  "language_info": {
   "codemirror_mode": {
    "name": "ipython",
    "version": 3
   },
   "file_extension": ".py",
   "mimetype": "text/x-python",
   "name": "python",
   "nbconvert_exporter": "python",
   "pygments_lexer": "ipython3",
   "version": "3.12.10"
  }
 },
 "nbformat": 4,
 "nbformat_minor": 5
}
